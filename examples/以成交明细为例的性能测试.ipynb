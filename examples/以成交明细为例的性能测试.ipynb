{
 "cells": [
  {
   "cell_type": "code",
   "execution_count": 1,
   "metadata": {
    "ExecuteTime": {
     "end_time": "2020-03-30T10:02:00.460274Z",
     "start_time": "2020-03-30T10:02:00.238884Z"
    }
   },
   "outputs": [],
   "source": [
    "import pandas as pd\n",
    "import numpy as np"
   ]
  },
  {
   "cell_type": "code",
   "execution_count": 2,
   "metadata": {
    "ExecuteTime": {
     "end_time": "2020-03-30T10:02:00.782610Z",
     "start_time": "2020-03-30T10:02:00.779617Z"
    }
   },
   "outputs": [],
   "source": [
    "from pprint import pprint"
   ]
  },
  {
   "cell_type": "code",
   "execution_count": 3,
   "metadata": {
    "ExecuteTime": {
     "end_time": "2020-03-30T10:02:01.542197Z",
     "start_time": "2020-03-30T10:02:01.356585Z"
    }
   },
   "outputs": [],
   "source": [
    "fname = 'wy_cjmx.h5'\n",
    "store = pd.HDFStore(fname, mode='r')"
   ]
  },
  {
   "cell_type": "code",
   "execution_count": 4,
   "metadata": {
    "ExecuteTime": {
     "end_time": "2020-03-30T10:02:02.171370Z",
     "start_time": "2020-03-30T10:02:02.148431Z"
    }
   },
   "outputs": [
    {
     "name": "stdout",
     "output_type": "stream",
     "text": [
      "(\"<class 'pandas.io.pytables.HDFStore'>\\n\"\n",
      " 'File path: wy_cjmx.h5\\n'\n",
      " '/df            frame_table  '\n",
      " '(typ->appendable_multi,nrows->421395453,ncols->7,indexers->[index],dc->[股票代码,成交时间,成交价,价格变动,成交量,成交额,性质])')\n"
     ]
    }
   ],
   "source": [
    "pprint(store.info())"
   ]
  },
  {
   "cell_type": "markdown",
   "metadata": {},
   "source": [
    "## 索引"
   ]
  },
  {
   "cell_type": "code",
   "execution_count": 6,
   "metadata": {
    "ExecuteTime": {
     "end_time": "2020-03-30T10:02:16.175693Z",
     "start_time": "2020-03-30T10:02:16.172674Z"
    }
   },
   "outputs": [],
   "source": [
    "i = store.root.df.table.cols.index.index"
   ]
  },
  {
   "cell_type": "code",
   "execution_count": 7,
   "metadata": {
    "ExecuteTime": {
     "end_time": "2020-03-30T10:02:17.601492Z",
     "start_time": "2020-03-30T10:02:17.596505Z"
    }
   },
   "outputs": [
    {
     "data": {
      "text/plain": [
       "(9, 'full')"
      ]
     },
     "execution_count": 7,
     "metadata": {},
     "output_type": "execute_result"
    }
   ],
   "source": [
    "i.optlevel, i.kind"
   ]
  },
  {
   "cell_type": "raw",
   "metadata": {
    "ExecuteTime": {
     "end_time": "2020-03-30T06:04:05.021466Z",
     "start_time": "2020-03-30T06:04:05.017477Z"
    }
   },
   "source": [
    "# 索引\n",
    "store.create_table_index('data', optlevel=9, kind='full')"
   ]
  },
  {
   "cell_type": "code",
   "execution_count": 8,
   "metadata": {
    "ExecuteTime": {
     "end_time": "2020-03-30T10:02:24.633424Z",
     "start_time": "2020-03-30T10:02:24.628425Z"
    }
   },
   "outputs": [
    {
     "data": {
      "text/plain": [
       "/df/table (Table(421395453,), shuffle, blosc:blosclz(9)) ''\n",
       "  description := {\n",
       "  \"index\": Int64Col(shape=(), dflt=0, pos=0),\n",
       "  \"股票代码\": StringCol(itemsize=6, shape=(), dflt=b'', pos=1),\n",
       "  \"成交时间\": Int64Col(shape=(), dflt=0, pos=2),\n",
       "  \"成交价\": Float64Col(shape=(), dflt=0.0, pos=3),\n",
       "  \"价格变动\": Float64Col(shape=(), dflt=0.0, pos=4),\n",
       "  \"成交量\": Int64Col(shape=(), dflt=0, pos=5),\n",
       "  \"成交额\": Float64Col(shape=(), dflt=0.0, pos=6),\n",
       "  \"性质\": StringCol(itemsize=9, shape=(), dflt=b'', pos=7)}\n",
       "  byteorder := 'little'\n",
       "  chunkshape := (2080,)\n",
       "  autoindex := True\n",
       "  colindexes := {\n",
       "    \"index\": Index(9, full, shuffle, zlib(1)).is_csi=True,\n",
       "    \"股票代码\": Index(9, full, shuffle, zlib(1)).is_csi=True,\n",
       "    \"成交时间\": Index(9, full, shuffle, zlib(1)).is_csi=True,\n",
       "    \"成交价\": Index(9, full, shuffle, zlib(1)).is_csi=True,\n",
       "    \"价格变动\": Index(9, full, shuffle, zlib(1)).is_csi=True,\n",
       "    \"成交量\": Index(9, full, shuffle, zlib(1)).is_csi=True,\n",
       "    \"成交额\": Index(9, full, shuffle, zlib(1)).is_csi=True,\n",
       "    \"性质\": Index(9, full, shuffle, zlib(1)).is_csi=True}"
      ]
     },
     "execution_count": 8,
     "metadata": {},
     "output_type": "execute_result"
    }
   ],
   "source": [
    "store.get_storer('df').table"
   ]
  },
  {
   "cell_type": "markdown",
   "metadata": {},
   "source": [
    "## 查询"
   ]
  },
  {
   "cell_type": "markdown",
   "metadata": {},
   "source": [
    "### 主索引`dt`"
   ]
  },
  {
   "cell_type": "code",
   "execution_count": 9,
   "metadata": {
    "ExecuteTime": {
     "end_time": "2020-03-30T10:02:30.719164Z",
     "start_time": "2020-03-30T10:02:30.716196Z"
    }
   },
   "outputs": [],
   "source": [
    "where = [\"成交时间 >= pd.Timestamp('2020-03-24 09:25') & 成交时间 <= pd.Timestamp('2020-03-26 15:01')\"]"
   ]
  },
  {
   "cell_type": "code",
   "execution_count": 10,
   "metadata": {
    "ExecuteTime": {
     "end_time": "2020-03-30T10:03:48.520427Z",
     "start_time": "2020-03-30T10:02:31.259731Z"
    }
   },
   "outputs": [],
   "source": [
    "# 1m22s\n",
    "df = store.select('df', where=where, iterator=False)"
   ]
  },
  {
   "cell_type": "code",
   "execution_count": 11,
   "metadata": {
    "ExecuteTime": {
     "end_time": "2020-03-30T10:03:55.097190Z",
     "start_time": "2020-03-30T10:03:55.092197Z"
    }
   },
   "outputs": [
    {
     "data": {
      "text/plain": [
       "(20464301, 5)"
      ]
     },
     "execution_count": 11,
     "metadata": {},
     "output_type": "execute_result"
    }
   ],
   "source": [
    "df.shape"
   ]
  },
  {
   "cell_type": "markdown",
   "metadata": {},
   "source": [
    "### 次索引查询"
   ]
  },
  {
   "cell_type": "code",
   "execution_count": 12,
   "metadata": {
    "ExecuteTime": {
     "end_time": "2020-03-30T10:04:00.872541Z",
     "start_time": "2020-03-30T10:03:57.291675Z"
    }
   },
   "outputs": [],
   "source": [
    "# 4s\n",
    "where = [\n",
    "    \"股票代码 in ['000001','000333','300001']\"\n",
    "]\n",
    "df = store.select('df', where=where, iterator=False)"
   ]
  },
  {
   "cell_type": "code",
   "execution_count": 13,
   "metadata": {
    "ExecuteTime": {
     "end_time": "2020-03-30T10:04:00.877528Z",
     "start_time": "2020-03-30T10:04:00.873538Z"
    }
   },
   "outputs": [
    {
     "data": {
      "text/plain": [
       "(701504, 5)"
      ]
     },
     "execution_count": 13,
     "metadata": {},
     "output_type": "execute_result"
    }
   ],
   "source": [
    "df.shape"
   ]
  },
  {
   "cell_type": "markdown",
   "metadata": {},
   "source": [
    "### 索引组合"
   ]
  },
  {
   "cell_type": "code",
   "execution_count": 14,
   "metadata": {
    "ExecuteTime": {
     "end_time": "2020-03-30T10:04:06.359275Z",
     "start_time": "2020-03-30T10:04:05.083999Z"
    }
   },
   "outputs": [],
   "source": [
    "# 1.4s\n",
    "where = [\n",
    "    \"股票代码 in ['000001','000333','300001']\",\n",
    "    \"成交时间 >= pd.Timestamp('2020-03-24 09:25') & 成交时间 <= pd.Timestamp('2020-03-26 15:01')\"\n",
    "]\n",
    "df = store.select('df', where=where, iterator=False)"
   ]
  },
  {
   "cell_type": "code",
   "execution_count": 15,
   "metadata": {
    "ExecuteTime": {
     "end_time": "2020-03-30T10:04:06.365119Z",
     "start_time": "2020-03-30T10:04:06.360132Z"
    }
   },
   "outputs": [
    {
     "data": {
      "text/plain": [
       "(36126, 5)"
      ]
     },
     "execution_count": 15,
     "metadata": {},
     "output_type": "execute_result"
    }
   ],
   "source": [
    "df.shape"
   ]
  },
  {
   "cell_type": "markdown",
   "metadata": {},
   "source": [
    "### 列查询"
   ]
  },
  {
   "cell_type": "code",
   "execution_count": 16,
   "metadata": {
    "ExecuteTime": {
     "end_time": "2020-03-30T10:04:11.559212Z",
     "start_time": "2020-03-30T10:04:10.860082Z"
    }
   },
   "outputs": [],
   "source": [
    "# 0.79s\n",
    "where = [\n",
    "    \"成交价 > 1000\"\n",
    "]\n",
    "df = store.select('df', where=where, iterator=False)"
   ]
  },
  {
   "cell_type": "code",
   "execution_count": 17,
   "metadata": {
    "ExecuteTime": {
     "end_time": "2020-03-30T10:04:11.563189Z",
     "start_time": "2020-03-30T10:04:11.560199Z"
    }
   },
   "outputs": [
    {
     "data": {
      "text/plain": [
       "(155209, 5)"
      ]
     },
     "execution_count": 17,
     "metadata": {},
     "output_type": "execute_result"
    }
   ],
   "source": [
    "df.shape"
   ]
  },
  {
   "cell_type": "markdown",
   "metadata": {},
   "source": [
    "### 组合"
   ]
  },
  {
   "cell_type": "code",
   "execution_count": 18,
   "metadata": {
    "ExecuteTime": {
     "end_time": "2020-03-30T10:04:21.426863Z",
     "start_time": "2020-03-30T10:04:17.581016Z"
    }
   },
   "outputs": [],
   "source": [
    "# 4.2s\n",
    "where = [\n",
    "    \"股票代码 in ['000001','000333','300001']\",\n",
    "    \"成交时间 >= pd.Timestamp('2020-03-24 09:25') & 成交时间 <= pd.Timestamp('2020-03-26 15:01')\",\n",
    "    \"成交价 > 30\"\n",
    "]\n",
    "df = store.select('df', where=where, iterator=False)"
   ]
  },
  {
   "cell_type": "code",
   "execution_count": 19,
   "metadata": {
    "ExecuteTime": {
     "end_time": "2020-03-30T10:04:21.431729Z",
     "start_time": "2020-03-30T10:04:21.428725Z"
    }
   },
   "outputs": [
    {
     "data": {
      "text/plain": [
       "(12639, 5)"
      ]
     },
     "execution_count": 19,
     "metadata": {},
     "output_type": "execute_result"
    }
   ],
   "source": [
    "df.shape"
   ]
  },
  {
   "cell_type": "markdown",
   "metadata": {},
   "source": [
    "### `或`与`非`表达式"
   ]
  },
  {
   "cell_type": "code",
   "execution_count": 20,
   "metadata": {
    "ExecuteTime": {
     "end_time": "2020-03-30T10:04:28.073099Z",
     "start_time": "2020-03-30T10:04:25.836260Z"
    }
   },
   "outputs": [
    {
     "data": {
      "text/plain": [
       "array(['000001', '600000', '600645'], dtype=object)"
      ]
     },
     "execution_count": 20,
     "metadata": {},
     "output_type": "execute_result"
    }
   ],
   "source": [
    "# 2.5s\n",
    "where = [\n",
    "    \"(股票代码 = '000001') | (股票代码 = ['600000','600645'])\",\n",
    "]\n",
    "df = store.select('df', where=where, iterator=False)\n",
    "df.reset_index(inplace=True)\n",
    "df['股票代码'].unique()"
   ]
  },
  {
   "cell_type": "code",
   "execution_count": 21,
   "metadata": {
    "ExecuteTime": {
     "end_time": "2020-03-30T10:04:31.867548Z",
     "start_time": "2020-03-30T10:04:31.259732Z"
    }
   },
   "outputs": [
    {
     "data": {
      "text/plain": [
       "array(['卖盘', '中性盘'], dtype=object)"
      ]
     },
     "execution_count": 21,
     "metadata": {},
     "output_type": "execute_result"
    }
   ],
   "source": [
    "# 0.7s\n",
    "where = [\n",
    "    \"性质 != '买盘' and (股票代码 = ['600000','600645'])\",\n",
    "]\n",
    "df = store.select('df', where=where, iterator=False)\n",
    "df['性质'].unique()"
   ]
  },
  {
   "cell_type": "markdown",
   "metadata": {},
   "source": [
    "**注**：`~(expr)`用法受限"
   ]
  },
  {
   "cell_type": "markdown",
   "metadata": {},
   "source": [
    "## 属性"
   ]
  },
  {
   "cell_type": "code",
   "execution_count": 29,
   "metadata": {
    "ExecuteTime": {
     "end_time": "2020-03-30T10:52:30.443800Z",
     "start_time": "2020-03-30T10:22:59.075850Z"
    }
   },
   "outputs": [],
   "source": [
    "last_date = pd.Timestamp('1990')\n",
    "for df in store.select('df', iterator=True):\n",
    "    last_date = max(last_date, df.index.get_level_values(0).max())"
   ]
  },
  {
   "cell_type": "code",
   "execution_count": 31,
   "metadata": {
    "ExecuteTime": {
     "end_time": "2020-03-30T11:20:54.349623Z",
     "start_time": "2020-03-30T11:20:54.346603Z"
    }
   },
   "outputs": [
    {
     "data": {
      "text/plain": [
       "Timestamp('2020-03-26 15:00:27')"
      ]
     },
     "execution_count": 31,
     "metadata": {},
     "output_type": "execute_result"
    }
   ],
   "source": [
    "last_date"
   ]
  },
  {
   "cell_type": "code",
   "execution_count": 32,
   "metadata": {
    "ExecuteTime": {
     "end_time": "2020-03-30T11:21:39.405266Z",
     "start_time": "2020-03-30T11:21:39.401273Z"
    }
   },
   "outputs": [
    {
     "data": {
      "text/plain": [
       "/df._v_attrs (AttributeSet), 15 attributes:\n",
       "   [CLASS := 'GROUP',\n",
       "    TITLE := '',\n",
       "    VERSION := '1.0',\n",
       "    data_columns := ['股票代码', '成交时间', '成交价', '价格变动', '成交量', '成交额', '性质'],\n",
       "    encoding := 'UTF-8',\n",
       "    errors := 'strict',\n",
       "    index_cols := [(0, 'index')],\n",
       "    info := {1: {'names': [None], 'type': 'Index'}, 'index': {}, '股票代码': {}, '成交时间': {}, '成交价': {}, '价格变动': {}, '成交量': {}, '成交额': {}, '性质': {}},\n",
       "    levels := ['成交时间', '股票代码'],\n",
       "    nan_rep := 'nan',\n",
       "    non_index_axes := [(1, ['成交时间', '股票代码', '成交价', '价格变动', '成交量', '成交额', '性质'])],\n",
       "    pandas_type := 'frame_table',\n",
       "    pandas_version := '0.15.2',\n",
       "    table_type := 'appendable_multiframe',\n",
       "    values_cols := ['股票代码', '成交时间', '成交价', '价格变动', '成交量', '成交额', '性质']]"
      ]
     },
     "execution_count": 32,
     "metadata": {},
     "output_type": "execute_result"
    }
   ],
   "source": [
    "store.get_storer('df').attrs"
   ]
  },
  {
   "cell_type": "code",
   "execution_count": 30,
   "metadata": {
    "ExecuteTime": {
     "end_time": "2020-03-30T11:20:21.668057Z",
     "start_time": "2020-03-30T11:20:21.651108Z"
    }
   },
   "outputs": [
    {
     "ename": "FileModeError",
     "evalue": "the file is not writable",
     "output_type": "error",
     "traceback": [
      "\u001b[1;31m---------------------------------------------------------------------------\u001b[0m",
      "\u001b[1;31mFileModeError\u001b[0m                             Traceback (most recent call last)",
      "\u001b[1;32m<ipython-input-30-4ad23de2933a>\u001b[0m in \u001b[0;36m<module>\u001b[1;34m\u001b[0m\n\u001b[0;32m      1\u001b[0m \u001b[1;31m# 设置属性\u001b[0m\u001b[1;33m\u001b[0m\u001b[1;33m\u001b[0m\u001b[1;33m\u001b[0m\u001b[0m\n\u001b[1;32m----> 2\u001b[1;33m \u001b[0mstore\u001b[0m\u001b[1;33m.\u001b[0m\u001b[0mget_storer\u001b[0m\u001b[1;33m(\u001b[0m\u001b[1;34m'df'\u001b[0m\u001b[1;33m)\u001b[0m\u001b[1;33m.\u001b[0m\u001b[0mattrs\u001b[0m\u001b[1;33m.\u001b[0m\u001b[0mlast_date\u001b[0m \u001b[1;33m=\u001b[0m \u001b[0mlast_date\u001b[0m\u001b[1;33m\u001b[0m\u001b[1;33m\u001b[0m\u001b[0m\n\u001b[0m",
      "\u001b[1;32m~\\anaconda3\\envs\\zipline\\lib\\site-packages\\tables\\attributeset.py\u001b[0m in \u001b[0;36m__setattr__\u001b[1;34m(self, name, value)\u001b[0m\n\u001b[0;32m    464\u001b[0m         \u001b[0mcheck_attribute_name\u001b[0m\u001b[1;33m(\u001b[0m\u001b[0mname\u001b[0m\u001b[1;33m)\u001b[0m\u001b[1;33m\u001b[0m\u001b[1;33m\u001b[0m\u001b[0m\n\u001b[0;32m    465\u001b[0m \u001b[1;33m\u001b[0m\u001b[0m\n\u001b[1;32m--> 466\u001b[1;33m         \u001b[0mnodefile\u001b[0m\u001b[1;33m.\u001b[0m\u001b[0m_check_writable\u001b[0m\u001b[1;33m(\u001b[0m\u001b[1;33m)\u001b[0m\u001b[1;33m\u001b[0m\u001b[1;33m\u001b[0m\u001b[0m\n\u001b[0m\u001b[0;32m    467\u001b[0m \u001b[1;33m\u001b[0m\u001b[0m\n\u001b[0;32m    468\u001b[0m         \u001b[1;31m# Check if there are too many attributes.\u001b[0m\u001b[1;33m\u001b[0m\u001b[1;33m\u001b[0m\u001b[1;33m\u001b[0m\u001b[0m\n",
      "\u001b[1;32m~\\anaconda3\\envs\\zipline\\lib\\site-packages\\tables\\file.py\u001b[0m in \u001b[0;36m_check_writable\u001b[1;34m(self)\u001b[0m\n\u001b[0;32m   2165\u001b[0m \u001b[1;33m\u001b[0m\u001b[0m\n\u001b[0;32m   2166\u001b[0m         \u001b[1;32mif\u001b[0m \u001b[1;32mnot\u001b[0m \u001b[0mself\u001b[0m\u001b[1;33m.\u001b[0m\u001b[0m_iswritable\u001b[0m\u001b[1;33m(\u001b[0m\u001b[1;33m)\u001b[0m\u001b[1;33m:\u001b[0m\u001b[1;33m\u001b[0m\u001b[1;33m\u001b[0m\u001b[0m\n\u001b[1;32m-> 2167\u001b[1;33m             \u001b[1;32mraise\u001b[0m \u001b[0mFileModeError\u001b[0m\u001b[1;33m(\u001b[0m\u001b[1;34m\"the file is not writable\"\u001b[0m\u001b[1;33m)\u001b[0m\u001b[1;33m\u001b[0m\u001b[1;33m\u001b[0m\u001b[0m\n\u001b[0m\u001b[0;32m   2168\u001b[0m \u001b[1;33m\u001b[0m\u001b[0m\n\u001b[0;32m   2169\u001b[0m \u001b[1;33m\u001b[0m\u001b[0m\n",
      "\u001b[1;31mFileModeError\u001b[0m: the file is not writable"
     ]
    }
   ],
   "source": [
    "# 设置属性\n",
    "store.get_storer('df').attrs.last_date = last_date"
   ]
  },
  {
   "cell_type": "code",
   "execution_count": null,
   "metadata": {},
   "outputs": [],
   "source": [
    "store.close()"
   ]
  },
  {
   "cell_type": "code",
   "execution_count": null,
   "metadata": {},
   "outputs": [],
   "source": [
    "store.open()\n",
    "store.get_storer('df').attrs.last_date"
   ]
  },
  {
   "cell_type": "code",
   "execution_count": 33,
   "metadata": {
    "ExecuteTime": {
     "end_time": "2020-03-30T11:28:21.668136Z",
     "start_time": "2020-03-30T11:28:21.649210Z"
    }
   },
   "outputs": [
    {
     "data": {
      "text/html": [
       "<div>\n",
       "<style scoped>\n",
       "    .dataframe tbody tr th:only-of-type {\n",
       "        vertical-align: middle;\n",
       "    }\n",
       "\n",
       "    .dataframe tbody tr th {\n",
       "        vertical-align: top;\n",
       "    }\n",
       "\n",
       "    .dataframe thead th {\n",
       "        text-align: right;\n",
       "    }\n",
       "</style>\n",
       "<table border=\"1\" class=\"dataframe\">\n",
       "  <thead>\n",
       "    <tr style=\"text-align: right;\">\n",
       "      <th></th>\n",
       "      <th></th>\n",
       "      <th>成交价</th>\n",
       "      <th>价格变动</th>\n",
       "      <th>成交量</th>\n",
       "      <th>成交额</th>\n",
       "      <th>性质</th>\n",
       "    </tr>\n",
       "    <tr>\n",
       "      <th>成交时间</th>\n",
       "      <th>股票代码</th>\n",
       "      <th></th>\n",
       "      <th></th>\n",
       "      <th></th>\n",
       "      <th></th>\n",
       "      <th></th>\n",
       "    </tr>\n",
       "  </thead>\n",
       "  <tbody>\n",
       "    <tr>\n",
       "      <th>2020-03-20 10:36:19</th>\n",
       "      <th>688396</th>\n",
       "      <td>41.13</td>\n",
       "      <td>0.00</td>\n",
       "      <td>53</td>\n",
       "      <td>219303.0</td>\n",
       "      <td>卖盘</td>\n",
       "    </tr>\n",
       "    <tr>\n",
       "      <th>2020-03-20 10:36:25</th>\n",
       "      <th>688396</th>\n",
       "      <td>41.20</td>\n",
       "      <td>0.07</td>\n",
       "      <td>22</td>\n",
       "      <td>92639.0</td>\n",
       "      <td>买盘</td>\n",
       "    </tr>\n",
       "    <tr>\n",
       "      <th>2020-03-20 10:36:28</th>\n",
       "      <th>688396</th>\n",
       "      <td>41.14</td>\n",
       "      <td>-0.06</td>\n",
       "      <td>11</td>\n",
       "      <td>47967.0</td>\n",
       "      <td>中性盘</td>\n",
       "    </tr>\n",
       "    <tr>\n",
       "      <th>2020-03-20 10:36:34</th>\n",
       "      <th>688396</th>\n",
       "      <td>41.20</td>\n",
       "      <td>0.00</td>\n",
       "      <td>8</td>\n",
       "      <td>35351.0</td>\n",
       "      <td>卖盘</td>\n",
       "    </tr>\n",
       "    <tr>\n",
       "      <th>2020-03-20 10:36:41</th>\n",
       "      <th>688396</th>\n",
       "      <td>41.17</td>\n",
       "      <td>-0.03</td>\n",
       "      <td>4</td>\n",
       "      <td>16468.0</td>\n",
       "      <td>卖盘</td>\n",
       "    </tr>\n",
       "    <tr>\n",
       "      <th>...</th>\n",
       "      <th>...</th>\n",
       "      <td>...</td>\n",
       "      <td>...</td>\n",
       "      <td>...</td>\n",
       "      <td>...</td>\n",
       "      <td>...</td>\n",
       "    </tr>\n",
       "    <tr>\n",
       "      <th>2020-03-26 14:56:46</th>\n",
       "      <th>688399</th>\n",
       "      <td>83.09</td>\n",
       "      <td>0.00</td>\n",
       "      <td>12</td>\n",
       "      <td>100206.0</td>\n",
       "      <td>买盘</td>\n",
       "    </tr>\n",
       "    <tr>\n",
       "      <th>2020-03-26 14:56:51</th>\n",
       "      <th>688399</th>\n",
       "      <td>83.09</td>\n",
       "      <td>0.00</td>\n",
       "      <td>23</td>\n",
       "      <td>196093.0</td>\n",
       "      <td>卖盘</td>\n",
       "    </tr>\n",
       "    <tr>\n",
       "      <th>2020-03-26 14:56:53</th>\n",
       "      <th>688399</th>\n",
       "      <td>83.00</td>\n",
       "      <td>-0.09</td>\n",
       "      <td>64</td>\n",
       "      <td>539347.0</td>\n",
       "      <td>卖盘</td>\n",
       "    </tr>\n",
       "    <tr>\n",
       "      <th>2020-03-26 14:56:57</th>\n",
       "      <th>688399</th>\n",
       "      <td>83.09</td>\n",
       "      <td>0.09</td>\n",
       "      <td>4</td>\n",
       "      <td>39917.0</td>\n",
       "      <td>中性盘</td>\n",
       "    </tr>\n",
       "    <tr>\n",
       "      <th>2020-03-26 15:00:03</th>\n",
       "      <th>688399</th>\n",
       "      <td>83.30</td>\n",
       "      <td>0.21</td>\n",
       "      <td>145</td>\n",
       "      <td>1212598.0</td>\n",
       "      <td>买盘</td>\n",
       "    </tr>\n",
       "  </tbody>\n",
       "</table>\n",
       "<p>95453 rows × 5 columns</p>\n",
       "</div>"
      ],
      "text/plain": [
       "                              成交价  价格变动  成交量        成交额   性质\n",
       "成交时间                股票代码                                    \n",
       "2020-03-20 10:36:19 688396  41.13  0.00   53   219303.0   卖盘\n",
       "2020-03-20 10:36:25 688396  41.20  0.07   22    92639.0   买盘\n",
       "2020-03-20 10:36:28 688396  41.14 -0.06   11    47967.0  中性盘\n",
       "2020-03-20 10:36:34 688396  41.20  0.00    8    35351.0   卖盘\n",
       "2020-03-20 10:36:41 688396  41.17 -0.03    4    16468.0   卖盘\n",
       "...                           ...   ...  ...        ...  ...\n",
       "2020-03-26 14:56:46 688399  83.09  0.00   12   100206.0   买盘\n",
       "2020-03-26 14:56:51 688399  83.09  0.00   23   196093.0   卖盘\n",
       "2020-03-26 14:56:53 688399  83.00 -0.09   64   539347.0   卖盘\n",
       "2020-03-26 14:56:57 688399  83.09  0.09    4    39917.0  中性盘\n",
       "2020-03-26 15:00:03 688399  83.30  0.21  145  1212598.0   买盘\n",
       "\n",
       "[95453 rows x 5 columns]"
      ]
     },
     "execution_count": 33,
     "metadata": {},
     "output_type": "execute_result"
    }
   ],
   "source": [
    "df"
   ]
  },
  {
   "cell_type": "code",
   "execution_count": 34,
   "metadata": {
    "ExecuteTime": {
     "end_time": "2020-03-30T11:28:51.877279Z",
     "start_time": "2020-03-30T11:28:51.873265Z"
    }
   },
   "outputs": [
    {
     "data": {
      "text/plain": [
       "421395453"
      ]
     },
     "execution_count": 34,
     "metadata": {},
     "output_type": "execute_result"
    }
   ],
   "source": [
    "store.get_storer('df').nrows"
   ]
  }
 ],
 "metadata": {
  "kernelspec": {
   "display_name": "zipline",
   "language": "python",
   "name": "zipline"
  },
  "language_info": {
   "codemirror_mode": {
    "name": "ipython",
    "version": 3
   },
   "file_extension": ".py",
   "mimetype": "text/x-python",
   "name": "python",
   "nbconvert_exporter": "python",
   "pygments_lexer": "ipython3",
   "version": "3.7.7"
  },
  "toc": {
   "base_numbering": 1,
   "nav_menu": {},
   "number_sections": true,
   "sideBar": true,
   "skip_h1_title": false,
   "title_cell": "Table of Contents",
   "title_sidebar": "Contents",
   "toc_cell": false,
   "toc_position": {},
   "toc_section_display": true,
   "toc_window_display": true
  }
 },
 "nbformat": 4,
 "nbformat_minor": 4
}
