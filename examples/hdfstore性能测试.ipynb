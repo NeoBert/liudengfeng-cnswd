{
 "cells": [
  {
   "cell_type": "code",
   "execution_count": 1,
   "metadata": {
    "ExecuteTime": {
     "end_time": "2020-03-30T07:45:35.689941Z",
     "start_time": "2020-03-30T07:45:35.486821Z"
    }
   },
   "outputs": [],
   "source": [
    "import pandas as pd\n",
    "import numpy as np"
   ]
  },
  {
   "cell_type": "code",
   "execution_count": 2,
   "metadata": {
    "ExecuteTime": {
     "end_time": "2020-03-30T07:45:35.692909Z",
     "start_time": "2020-03-30T07:45:35.690897Z"
    }
   },
   "outputs": [],
   "source": [
    "N = 100000000"
   ]
  },
  {
   "cell_type": "code",
   "execution_count": 3,
   "metadata": {
    "ExecuteTime": {
     "end_time": "2020-03-30T07:45:35.697878Z",
     "start_time": "2020-03-30T07:45:35.693897Z"
    }
   },
   "outputs": [],
   "source": [
    "HDF_KWARGS = {\n",
    "    'data_columns': True,  # 便于列查询\n",
    "    'append': True,  # 数据可添加\n",
    "    'complevel': 9,\n",
    "    'complib': 'blosc:blosclz', # 默认库。速度最快\n",
    "}"
   ]
  },
  {
   "cell_type": "code",
   "execution_count": 4,
   "metadata": {
    "ExecuteTime": {
     "end_time": "2020-03-30T07:45:35.702864Z",
     "start_time": "2020-03-30T07:45:35.698875Z"
    }
   },
   "outputs": [],
   "source": [
    "codes = [str(i).zfill(6) for i in range(1,1000)]"
   ]
  },
  {
   "cell_type": "code",
   "execution_count": 5,
   "metadata": {
    "ExecuteTime": {
     "end_time": "2020-03-30T07:45:49.778248Z",
     "start_time": "2020-03-30T07:45:35.703861Z"
    }
   },
   "outputs": [],
   "source": [
    "df = pd.DataFrame({\n",
    "    'date':\n",
    "    pd.date_range('1990-11-01 00:00', periods=N, freq='s'),\n",
    "    'stock_code':\n",
    "    np.random.choice(codes, N),\n",
    "    'pct':\n",
    "    np.random.random(N),\n",
    "    'price':\n",
    "    np.random.random(N),\n",
    "})"
   ]
  },
  {
   "cell_type": "code",
   "execution_count": 6,
   "metadata": {
    "ExecuteTime": {
     "end_time": "2020-03-30T07:46:28.112724Z",
     "start_time": "2020-03-30T07:45:49.779218Z"
    }
   },
   "outputs": [],
   "source": [
    "df.set_index(['date', 'stock_code'], inplace=True)"
   ]
  },
  {
   "cell_type": "code",
   "execution_count": 7,
   "metadata": {
    "ExecuteTime": {
     "end_time": "2020-03-30T07:46:28.124665Z",
     "start_time": "2020-03-30T07:46:28.113694Z"
    }
   },
   "outputs": [
    {
     "data": {
      "text/html": [
       "<div>\n",
       "<style scoped>\n",
       "    .dataframe tbody tr th:only-of-type {\n",
       "        vertical-align: middle;\n",
       "    }\n",
       "\n",
       "    .dataframe tbody tr th {\n",
       "        vertical-align: top;\n",
       "    }\n",
       "\n",
       "    .dataframe thead th {\n",
       "        text-align: right;\n",
       "    }\n",
       "</style>\n",
       "<table border=\"1\" class=\"dataframe\">\n",
       "  <thead>\n",
       "    <tr style=\"text-align: right;\">\n",
       "      <th></th>\n",
       "      <th></th>\n",
       "      <th>pct</th>\n",
       "      <th>price</th>\n",
       "    </tr>\n",
       "    <tr>\n",
       "      <th>date</th>\n",
       "      <th>stock_code</th>\n",
       "      <th></th>\n",
       "      <th></th>\n",
       "    </tr>\n",
       "  </thead>\n",
       "  <tbody>\n",
       "    <tr>\n",
       "      <th>1994-01-01 09:46:35</th>\n",
       "      <th>000509</th>\n",
       "      <td>0.068158</td>\n",
       "      <td>0.263386</td>\n",
       "    </tr>\n",
       "    <tr>\n",
       "      <th>1994-01-01 09:46:36</th>\n",
       "      <th>000944</th>\n",
       "      <td>0.575605</td>\n",
       "      <td>0.875603</td>\n",
       "    </tr>\n",
       "    <tr>\n",
       "      <th>1994-01-01 09:46:37</th>\n",
       "      <th>000220</th>\n",
       "      <td>0.137698</td>\n",
       "      <td>0.601171</td>\n",
       "    </tr>\n",
       "    <tr>\n",
       "      <th>1994-01-01 09:46:38</th>\n",
       "      <th>000339</th>\n",
       "      <td>0.948101</td>\n",
       "      <td>0.681946</td>\n",
       "    </tr>\n",
       "    <tr>\n",
       "      <th>1994-01-01 09:46:39</th>\n",
       "      <th>000451</th>\n",
       "      <td>0.658560</td>\n",
       "      <td>0.160573</td>\n",
       "    </tr>\n",
       "  </tbody>\n",
       "</table>\n",
       "</div>"
      ],
      "text/plain": [
       "                                     pct     price\n",
       "date                stock_code                    \n",
       "1994-01-01 09:46:35 000509      0.068158  0.263386\n",
       "1994-01-01 09:46:36 000944      0.575605  0.875603\n",
       "1994-01-01 09:46:37 000220      0.137698  0.601171\n",
       "1994-01-01 09:46:38 000339      0.948101  0.681946\n",
       "1994-01-01 09:46:39 000451      0.658560  0.160573"
      ]
     },
     "execution_count": 7,
     "metadata": {},
     "output_type": "execute_result"
    }
   ],
   "source": [
    "df.tail()"
   ]
  },
  {
   "cell_type": "markdown",
   "metadata": {},
   "source": [
    "# 写入"
   ]
  },
  {
   "cell_type": "code",
   "execution_count": 8,
   "metadata": {
    "ExecuteTime": {
     "end_time": "2020-03-30T07:53:36.168608Z",
     "start_time": "2020-03-30T07:46:28.125675Z"
    }
   },
   "outputs": [
    {
     "name": "stderr",
     "output_type": "stream",
     "text": [
      "C:\\Users\\liude\\anaconda3\\envs\\zipline\\lib\\site-packages\\tables\\leaf.py:353: RuntimeWarning: overflow encountered in long_scalars\n",
      "  expected_mb = (expectedrows * rowsize) // MB\n"
     ]
    }
   ],
   "source": [
    "# 带索引写入 7min\n",
    "# 不带索引 ?\n",
    "store = pd.HDFStore('large.h5')\n",
    "store.append(\"df\", df, index=False, **HDF_KWARGS)"
   ]
  },
  {
   "cell_type": "markdown",
   "metadata": {},
   "source": [
    "## 创建索引"
   ]
  },
  {
   "cell_type": "code",
   "execution_count": 10,
   "metadata": {
    "ExecuteTime": {
     "end_time": "2020-03-30T08:04:08.597125Z",
     "start_time": "2020-03-30T07:58:43.965824Z"
    }
   },
   "outputs": [],
   "source": [
    "# 创建索引 5min35s\n",
    "store.create_table_index('df', optlevel=9, kind='full')"
   ]
  },
  {
   "cell_type": "markdown",
   "metadata": {},
   "source": [
    "# 查询"
   ]
  },
  {
   "cell_type": "markdown",
   "metadata": {},
   "source": [
    "## 主坐标"
   ]
  },
  {
   "cell_type": "code",
   "execution_count": 11,
   "metadata": {
    "ExecuteTime": {
     "end_time": "2020-03-30T08:04:56.315596Z",
     "start_time": "2020-03-30T08:04:56.300630Z"
    }
   },
   "outputs": [
    {
     "data": {
      "text/html": [
       "<div>\n",
       "<style scoped>\n",
       "    .dataframe tbody tr th:only-of-type {\n",
       "        vertical-align: middle;\n",
       "    }\n",
       "\n",
       "    .dataframe tbody tr th {\n",
       "        vertical-align: top;\n",
       "    }\n",
       "\n",
       "    .dataframe thead th {\n",
       "        text-align: right;\n",
       "    }\n",
       "</style>\n",
       "<table border=\"1\" class=\"dataframe\">\n",
       "  <thead>\n",
       "    <tr style=\"text-align: right;\">\n",
       "      <th></th>\n",
       "      <th></th>\n",
       "      <th>pct</th>\n",
       "      <th>price</th>\n",
       "    </tr>\n",
       "    <tr>\n",
       "      <th>date</th>\n",
       "      <th>stock_code</th>\n",
       "      <th></th>\n",
       "      <th></th>\n",
       "    </tr>\n",
       "  </thead>\n",
       "  <tbody>\n",
       "    <tr>\n",
       "      <th>1994-01-01 09:46:35</th>\n",
       "      <th>000509</th>\n",
       "      <td>0.068158</td>\n",
       "      <td>0.263386</td>\n",
       "    </tr>\n",
       "    <tr>\n",
       "      <th>1994-01-01 09:46:36</th>\n",
       "      <th>000944</th>\n",
       "      <td>0.575605</td>\n",
       "      <td>0.875603</td>\n",
       "    </tr>\n",
       "    <tr>\n",
       "      <th>1994-01-01 09:46:37</th>\n",
       "      <th>000220</th>\n",
       "      <td>0.137698</td>\n",
       "      <td>0.601171</td>\n",
       "    </tr>\n",
       "    <tr>\n",
       "      <th>1994-01-01 09:46:38</th>\n",
       "      <th>000339</th>\n",
       "      <td>0.948101</td>\n",
       "      <td>0.681946</td>\n",
       "    </tr>\n",
       "    <tr>\n",
       "      <th>1994-01-01 09:46:39</th>\n",
       "      <th>000451</th>\n",
       "      <td>0.658560</td>\n",
       "      <td>0.160573</td>\n",
       "    </tr>\n",
       "  </tbody>\n",
       "</table>\n",
       "</div>"
      ],
      "text/plain": [
       "                                     pct     price\n",
       "date                stock_code                    \n",
       "1994-01-01 09:46:35 000509      0.068158  0.263386\n",
       "1994-01-01 09:46:36 000944      0.575605  0.875603\n",
       "1994-01-01 09:46:37 000220      0.137698  0.601171\n",
       "1994-01-01 09:46:38 000339      0.948101  0.681946\n",
       "1994-01-01 09:46:39 000451      0.658560  0.160573"
      ]
     },
     "execution_count": 11,
     "metadata": {},
     "output_type": "execute_result"
    }
   ],
   "source": [
    "# 15ms\n",
    "store.select(\"df\", \"date>=pd.Timestamp('1994-01-01 09:46:35') and date<=pd.Timestamp('1994-01-01 12:46:35')\")"
   ]
  },
  {
   "cell_type": "markdown",
   "metadata": {},
   "source": [
    "## 次坐标"
   ]
  },
  {
   "cell_type": "code",
   "execution_count": 12,
   "metadata": {
    "ExecuteTime": {
     "end_time": "2020-03-30T08:05:08.286609Z",
     "start_time": "2020-03-30T08:05:00.760804Z"
    }
   },
   "outputs": [
    {
     "data": {
      "text/html": [
       "<div>\n",
       "<style scoped>\n",
       "    .dataframe tbody tr th:only-of-type {\n",
       "        vertical-align: middle;\n",
       "    }\n",
       "\n",
       "    .dataframe tbody tr th {\n",
       "        vertical-align: top;\n",
       "    }\n",
       "\n",
       "    .dataframe thead th {\n",
       "        text-align: right;\n",
       "    }\n",
       "</style>\n",
       "<table border=\"1\" class=\"dataframe\">\n",
       "  <thead>\n",
       "    <tr style=\"text-align: right;\">\n",
       "      <th></th>\n",
       "      <th></th>\n",
       "      <th>pct</th>\n",
       "      <th>price</th>\n",
       "    </tr>\n",
       "    <tr>\n",
       "      <th>date</th>\n",
       "      <th>stock_code</th>\n",
       "      <th></th>\n",
       "      <th></th>\n",
       "    </tr>\n",
       "  </thead>\n",
       "  <tbody>\n",
       "    <tr>\n",
       "      <th>1990-11-01 00:02:22</th>\n",
       "      <th>000099</th>\n",
       "      <td>0.428784</td>\n",
       "      <td>0.803352</td>\n",
       "    </tr>\n",
       "    <tr>\n",
       "      <th>1990-11-01 00:18:48</th>\n",
       "      <th>000099</th>\n",
       "      <td>0.154121</td>\n",
       "      <td>0.991506</td>\n",
       "    </tr>\n",
       "    <tr>\n",
       "      <th>1990-11-01 00:23:23</th>\n",
       "      <th>000099</th>\n",
       "      <td>0.471175</td>\n",
       "      <td>0.242316</td>\n",
       "    </tr>\n",
       "    <tr>\n",
       "      <th>1990-11-01 00:36:36</th>\n",
       "      <th>000001</th>\n",
       "      <td>0.416093</td>\n",
       "      <td>0.110704</td>\n",
       "    </tr>\n",
       "    <tr>\n",
       "      <th>1990-11-01 00:45:48</th>\n",
       "      <th>000001</th>\n",
       "      <td>0.937726</td>\n",
       "      <td>0.691815</td>\n",
       "    </tr>\n",
       "    <tr>\n",
       "      <th>...</th>\n",
       "      <th>...</th>\n",
       "      <td>...</td>\n",
       "      <td>...</td>\n",
       "    </tr>\n",
       "    <tr>\n",
       "      <th>1994-01-01 09:10:00</th>\n",
       "      <th>000001</th>\n",
       "      <td>0.371614</td>\n",
       "      <td>0.840402</td>\n",
       "    </tr>\n",
       "    <tr>\n",
       "      <th>1994-01-01 09:18:09</th>\n",
       "      <th>000099</th>\n",
       "      <td>0.551704</td>\n",
       "      <td>0.096184</td>\n",
       "    </tr>\n",
       "    <tr>\n",
       "      <th>1994-01-01 09:18:44</th>\n",
       "      <th>000001</th>\n",
       "      <td>0.950649</td>\n",
       "      <td>0.580698</td>\n",
       "    </tr>\n",
       "    <tr>\n",
       "      <th>1994-01-01 09:31:40</th>\n",
       "      <th>000001</th>\n",
       "      <td>0.313774</td>\n",
       "      <td>0.973234</td>\n",
       "    </tr>\n",
       "    <tr>\n",
       "      <th>1994-01-01 09:43:26</th>\n",
       "      <th>000001</th>\n",
       "      <td>0.607753</td>\n",
       "      <td>0.816605</td>\n",
       "    </tr>\n",
       "  </tbody>\n",
       "</table>\n",
       "<p>200739 rows × 2 columns</p>\n",
       "</div>"
      ],
      "text/plain": [
       "                                     pct     price\n",
       "date                stock_code                    \n",
       "1990-11-01 00:02:22 000099      0.428784  0.803352\n",
       "1990-11-01 00:18:48 000099      0.154121  0.991506\n",
       "1990-11-01 00:23:23 000099      0.471175  0.242316\n",
       "1990-11-01 00:36:36 000001      0.416093  0.110704\n",
       "1990-11-01 00:45:48 000001      0.937726  0.691815\n",
       "...                                  ...       ...\n",
       "1994-01-01 09:10:00 000001      0.371614  0.840402\n",
       "1994-01-01 09:18:09 000099      0.551704  0.096184\n",
       "1994-01-01 09:18:44 000001      0.950649  0.580698\n",
       "1994-01-01 09:31:40 000001      0.313774  0.973234\n",
       "1994-01-01 09:43:26 000001      0.607753  0.816605\n",
       "\n",
       "[200739 rows x 2 columns]"
      ]
     },
     "execution_count": 12,
     "metadata": {},
     "output_type": "execute_result"
    }
   ],
   "source": [
    "# 7.5s 20w rows\n",
    "store.select(\"df\",\"stock_code = ['000001','000099']\")"
   ]
  },
  {
   "cell_type": "code",
   "execution_count": 13,
   "metadata": {
    "ExecuteTime": {
     "end_time": "2020-03-30T08:07:27.919101Z",
     "start_time": "2020-03-30T08:06:43.833318Z"
    }
   },
   "outputs": [
    {
     "data": {
      "text/html": [
       "<div>\n",
       "<style scoped>\n",
       "    .dataframe tbody tr th:only-of-type {\n",
       "        vertical-align: middle;\n",
       "    }\n",
       "\n",
       "    .dataframe tbody tr th {\n",
       "        vertical-align: top;\n",
       "    }\n",
       "\n",
       "    .dataframe thead th {\n",
       "        text-align: right;\n",
       "    }\n",
       "</style>\n",
       "<table border=\"1\" class=\"dataframe\">\n",
       "  <thead>\n",
       "    <tr style=\"text-align: right;\">\n",
       "      <th></th>\n",
       "      <th></th>\n",
       "      <th>pct</th>\n",
       "      <th>price</th>\n",
       "    </tr>\n",
       "    <tr>\n",
       "      <th>date</th>\n",
       "      <th>stock_code</th>\n",
       "      <th></th>\n",
       "      <th></th>\n",
       "    </tr>\n",
       "  </thead>\n",
       "  <tbody>\n",
       "    <tr>\n",
       "      <th>1990-11-01 00:00:15</th>\n",
       "      <th>000846</th>\n",
       "      <td>0.446632</td>\n",
       "      <td>0.966218</td>\n",
       "    </tr>\n",
       "    <tr>\n",
       "      <th>1990-11-01 00:00:24</th>\n",
       "      <th>000592</th>\n",
       "      <td>0.552473</td>\n",
       "      <td>0.955104</td>\n",
       "    </tr>\n",
       "    <tr>\n",
       "      <th>1990-11-01 00:00:27</th>\n",
       "      <th>000478</th>\n",
       "      <td>0.541749</td>\n",
       "      <td>0.892235</td>\n",
       "    </tr>\n",
       "    <tr>\n",
       "      <th>1990-11-01 00:00:29</th>\n",
       "      <th>000092</th>\n",
       "      <td>0.682438</td>\n",
       "      <td>0.949997</td>\n",
       "    </tr>\n",
       "    <tr>\n",
       "      <th>1990-11-01 00:00:43</th>\n",
       "      <th>000344</th>\n",
       "      <td>0.675081</td>\n",
       "      <td>0.805278</td>\n",
       "    </tr>\n",
       "    <tr>\n",
       "      <th>...</th>\n",
       "      <th>...</th>\n",
       "      <td>...</td>\n",
       "      <td>...</td>\n",
       "    </tr>\n",
       "    <tr>\n",
       "      <th>1994-01-01 09:46:17</th>\n",
       "      <th>000807</th>\n",
       "      <td>0.354347</td>\n",
       "      <td>0.823920</td>\n",
       "    </tr>\n",
       "    <tr>\n",
       "      <th>1994-01-01 09:46:18</th>\n",
       "      <th>000778</th>\n",
       "      <td>0.826694</td>\n",
       "      <td>0.922385</td>\n",
       "    </tr>\n",
       "    <tr>\n",
       "      <th>1994-01-01 09:46:19</th>\n",
       "      <th>000208</th>\n",
       "      <td>0.553176</td>\n",
       "      <td>0.953628</td>\n",
       "    </tr>\n",
       "    <tr>\n",
       "      <th>1994-01-01 09:46:24</th>\n",
       "      <th>000293</th>\n",
       "      <td>0.696998</td>\n",
       "      <td>0.862186</td>\n",
       "    </tr>\n",
       "    <tr>\n",
       "      <th>1994-01-01 09:46:36</th>\n",
       "      <th>000944</th>\n",
       "      <td>0.575605</td>\n",
       "      <td>0.875603</td>\n",
       "    </tr>\n",
       "  </tbody>\n",
       "</table>\n",
       "<p>20000693 rows × 2 columns</p>\n",
       "</div>"
      ],
      "text/plain": [
       "                                     pct     price\n",
       "date                stock_code                    \n",
       "1990-11-01 00:00:15 000846      0.446632  0.966218\n",
       "1990-11-01 00:00:24 000592      0.552473  0.955104\n",
       "1990-11-01 00:00:27 000478      0.541749  0.892235\n",
       "1990-11-01 00:00:29 000092      0.682438  0.949997\n",
       "1990-11-01 00:00:43 000344      0.675081  0.805278\n",
       "...                                  ...       ...\n",
       "1994-01-01 09:46:17 000807      0.354347  0.823920\n",
       "1994-01-01 09:46:18 000778      0.826694  0.922385\n",
       "1994-01-01 09:46:19 000208      0.553176  0.953628\n",
       "1994-01-01 09:46:24 000293      0.696998  0.862186\n",
       "1994-01-01 09:46:36 000944      0.575605  0.875603\n",
       "\n",
       "[20000693 rows x 2 columns]"
      ]
     },
     "execution_count": 13,
     "metadata": {},
     "output_type": "execute_result"
    }
   ],
   "source": [
    "# 44s 2000w rows\n",
    "store.select(\"df\",\"price > 0.8\")"
   ]
  },
  {
   "cell_type": "markdown",
   "metadata": {},
   "source": [
    "## 联合"
   ]
  },
  {
   "cell_type": "code",
   "execution_count": 14,
   "metadata": {
    "ExecuteTime": {
     "end_time": "2020-03-30T08:09:22.028889Z",
     "start_time": "2020-03-30T08:09:06.617604Z"
    }
   },
   "outputs": [
    {
     "data": {
      "text/html": [
       "<div>\n",
       "<style scoped>\n",
       "    .dataframe tbody tr th:only-of-type {\n",
       "        vertical-align: middle;\n",
       "    }\n",
       "\n",
       "    .dataframe tbody tr th {\n",
       "        vertical-align: top;\n",
       "    }\n",
       "\n",
       "    .dataframe thead th {\n",
       "        text-align: right;\n",
       "    }\n",
       "</style>\n",
       "<table border=\"1\" class=\"dataframe\">\n",
       "  <thead>\n",
       "    <tr style=\"text-align: right;\">\n",
       "      <th></th>\n",
       "      <th></th>\n",
       "      <th>pct</th>\n",
       "      <th>price</th>\n",
       "    </tr>\n",
       "    <tr>\n",
       "      <th>date</th>\n",
       "      <th>stock_code</th>\n",
       "      <th></th>\n",
       "      <th></th>\n",
       "    </tr>\n",
       "  </thead>\n",
       "  <tbody>\n",
       "    <tr>\n",
       "      <th>1993-01-01 09:46:53</th>\n",
       "      <th>000152</th>\n",
       "      <td>0.931940</td>\n",
       "      <td>0.961561</td>\n",
       "    </tr>\n",
       "    <tr>\n",
       "      <th>1993-01-01 09:46:58</th>\n",
       "      <th>000907</th>\n",
       "      <td>0.838805</td>\n",
       "      <td>0.952002</td>\n",
       "    </tr>\n",
       "    <tr>\n",
       "      <th>1993-01-01 09:47:01</th>\n",
       "      <th>000918</th>\n",
       "      <td>0.700786</td>\n",
       "      <td>0.843897</td>\n",
       "    </tr>\n",
       "    <tr>\n",
       "      <th>1993-01-01 09:47:06</th>\n",
       "      <th>000390</th>\n",
       "      <td>0.770505</td>\n",
       "      <td>0.850942</td>\n",
       "    </tr>\n",
       "    <tr>\n",
       "      <th>1993-01-01 09:47:08</th>\n",
       "      <th>000525</th>\n",
       "      <td>0.279420</td>\n",
       "      <td>0.982480</td>\n",
       "    </tr>\n",
       "    <tr>\n",
       "      <th>...</th>\n",
       "      <th>...</th>\n",
       "      <td>...</td>\n",
       "      <td>...</td>\n",
       "    </tr>\n",
       "    <tr>\n",
       "      <th>1994-01-01 09:46:17</th>\n",
       "      <th>000807</th>\n",
       "      <td>0.354347</td>\n",
       "      <td>0.823920</td>\n",
       "    </tr>\n",
       "    <tr>\n",
       "      <th>1994-01-01 09:46:18</th>\n",
       "      <th>000778</th>\n",
       "      <td>0.826694</td>\n",
       "      <td>0.922385</td>\n",
       "    </tr>\n",
       "    <tr>\n",
       "      <th>1994-01-01 09:46:19</th>\n",
       "      <th>000208</th>\n",
       "      <td>0.553176</td>\n",
       "      <td>0.953628</td>\n",
       "    </tr>\n",
       "    <tr>\n",
       "      <th>1994-01-01 09:46:24</th>\n",
       "      <th>000293</th>\n",
       "      <td>0.696998</td>\n",
       "      <td>0.862186</td>\n",
       "    </tr>\n",
       "    <tr>\n",
       "      <th>1994-01-01 09:46:36</th>\n",
       "      <th>000944</th>\n",
       "      <td>0.575605</td>\n",
       "      <td>0.875603</td>\n",
       "    </tr>\n",
       "  </tbody>\n",
       "</table>\n",
       "<p>6309141 rows × 2 columns</p>\n",
       "</div>"
      ],
      "text/plain": [
       "                                     pct     price\n",
       "date                stock_code                    \n",
       "1993-01-01 09:46:53 000152      0.931940  0.961561\n",
       "1993-01-01 09:46:58 000907      0.838805  0.952002\n",
       "1993-01-01 09:47:01 000918      0.700786  0.843897\n",
       "1993-01-01 09:47:06 000390      0.770505  0.850942\n",
       "1993-01-01 09:47:08 000525      0.279420  0.982480\n",
       "...                                  ...       ...\n",
       "1994-01-01 09:46:17 000807      0.354347  0.823920\n",
       "1994-01-01 09:46:18 000778      0.826694  0.922385\n",
       "1994-01-01 09:46:19 000208      0.553176  0.953628\n",
       "1994-01-01 09:46:24 000293      0.696998  0.862186\n",
       "1994-01-01 09:46:36 000944      0.575605  0.875603\n",
       "\n",
       "[6309141 rows x 2 columns]"
      ]
     },
     "execution_count": 14,
     "metadata": {},
     "output_type": "execute_result"
    }
   ],
   "source": [
    "# 15s 630w rows\n",
    "store.select(\"df\", \"date >= pd.Timestamp('1993-01-01 09:46:35') and price > 0.8\")"
   ]
  }
 ],
 "metadata": {
  "kernelspec": {
   "display_name": "zipline",
   "language": "python",
   "name": "zipline"
  },
  "language_info": {
   "codemirror_mode": {
    "name": "ipython",
    "version": 3
   },
   "file_extension": ".py",
   "mimetype": "text/x-python",
   "name": "python",
   "nbconvert_exporter": "python",
   "pygments_lexer": "ipython3",
   "version": "3.7.7"
  },
  "toc": {
   "base_numbering": 1,
   "nav_menu": {},
   "number_sections": true,
   "sideBar": true,
   "skip_h1_title": false,
   "title_cell": "Table of Contents",
   "title_sidebar": "Contents",
   "toc_cell": false,
   "toc_position": {},
   "toc_section_display": true,
   "toc_window_display": true
  }
 },
 "nbformat": 4,
 "nbformat_minor": 4
}
