{
 "cells": [
  {
   "cell_type": "code",
   "execution_count": 1,
   "metadata": {
    "ExecuteTime": {
     "end_time": "2020-03-30T08:12:46.362012Z",
     "start_time": "2020-03-30T08:12:46.160511Z"
    }
   },
   "outputs": [],
   "source": [
    "import pandas as pd\n",
    "import numpy as np"
   ]
  },
  {
   "cell_type": "code",
   "execution_count": 2,
   "metadata": {
    "ExecuteTime": {
     "end_time": "2020-03-30T08:12:46.365961Z",
     "start_time": "2020-03-30T08:12:46.362996Z"
    }
   },
   "outputs": [],
   "source": [
    "N = 100000000"
   ]
  },
  {
   "cell_type": "code",
   "execution_count": 3,
   "metadata": {
    "ExecuteTime": {
     "end_time": "2020-03-30T08:12:46.369950Z",
     "start_time": "2020-03-30T08:12:46.366985Z"
    }
   },
   "outputs": [],
   "source": [
    "HDF_KWARGS = {\n",
    "    'data_columns': True,  # 便于列查询\n",
    "    'append': True,  # 数据可添加\n",
    "    'complevel': 9,\n",
    "    'complib': 'blosc:blosclz', # 默认库。速度最快\n",
    "}"
   ]
  },
  {
   "cell_type": "code",
   "execution_count": 4,
   "metadata": {
    "ExecuteTime": {
     "end_time": "2020-03-30T08:12:46.373939Z",
     "start_time": "2020-03-30T08:12:46.369950Z"
    }
   },
   "outputs": [],
   "source": [
    "codes = [str(i).zfill(6) for i in range(1,1000)]"
   ]
  },
  {
   "cell_type": "code",
   "execution_count": 5,
   "metadata": {
    "ExecuteTime": {
     "end_time": "2020-03-30T08:13:00.699626Z",
     "start_time": "2020-03-30T08:12:46.373939Z"
    }
   },
   "outputs": [],
   "source": [
    "df = pd.DataFrame({\n",
    "    '日期':\n",
    "    pd.date_range('1990-11-01 00:00', periods=N, freq='s'),\n",
    "    '股票代码':\n",
    "    np.random.choice(codes, N),\n",
    "    '涨跌幅':\n",
    "    np.random.random(N),\n",
    "    '股价':\n",
    "    np.random.random(N),\n",
    "})"
   ]
  },
  {
   "cell_type": "code",
   "execution_count": 6,
   "metadata": {
    "ExecuteTime": {
     "end_time": "2020-03-30T08:13:38.692017Z",
     "start_time": "2020-03-30T08:13:00.700623Z"
    }
   },
   "outputs": [],
   "source": [
    "df.set_index(['日期', '股票代码'], inplace=True)"
   ]
  },
  {
   "cell_type": "code",
   "execution_count": 7,
   "metadata": {
    "ExecuteTime": {
     "end_time": "2020-03-30T08:13:38.704983Z",
     "start_time": "2020-03-30T08:13:38.694012Z"
    }
   },
   "outputs": [
    {
     "data": {
      "text/html": [
       "<div>\n",
       "<style scoped>\n",
       "    .dataframe tbody tr th:only-of-type {\n",
       "        vertical-align: middle;\n",
       "    }\n",
       "\n",
       "    .dataframe tbody tr th {\n",
       "        vertical-align: top;\n",
       "    }\n",
       "\n",
       "    .dataframe thead th {\n",
       "        text-align: right;\n",
       "    }\n",
       "</style>\n",
       "<table border=\"1\" class=\"dataframe\">\n",
       "  <thead>\n",
       "    <tr style=\"text-align: right;\">\n",
       "      <th></th>\n",
       "      <th></th>\n",
       "      <th>涨跌幅</th>\n",
       "      <th>股价</th>\n",
       "    </tr>\n",
       "    <tr>\n",
       "      <th>日期</th>\n",
       "      <th>股票代码</th>\n",
       "      <th></th>\n",
       "      <th></th>\n",
       "    </tr>\n",
       "  </thead>\n",
       "  <tbody>\n",
       "    <tr>\n",
       "      <th>1994-01-01 09:46:35</th>\n",
       "      <th>000085</th>\n",
       "      <td>0.268336</td>\n",
       "      <td>0.046985</td>\n",
       "    </tr>\n",
       "    <tr>\n",
       "      <th>1994-01-01 09:46:36</th>\n",
       "      <th>000862</th>\n",
       "      <td>0.086593</td>\n",
       "      <td>0.794695</td>\n",
       "    </tr>\n",
       "    <tr>\n",
       "      <th>1994-01-01 09:46:37</th>\n",
       "      <th>000097</th>\n",
       "      <td>0.726068</td>\n",
       "      <td>0.739594</td>\n",
       "    </tr>\n",
       "    <tr>\n",
       "      <th>1994-01-01 09:46:38</th>\n",
       "      <th>000179</th>\n",
       "      <td>0.166853</td>\n",
       "      <td>0.956411</td>\n",
       "    </tr>\n",
       "    <tr>\n",
       "      <th>1994-01-01 09:46:39</th>\n",
       "      <th>000117</th>\n",
       "      <td>0.251955</td>\n",
       "      <td>0.883251</td>\n",
       "    </tr>\n",
       "  </tbody>\n",
       "</table>\n",
       "</div>"
      ],
      "text/plain": [
       "                                 涨跌幅        股价\n",
       "日期                  股票代码                      \n",
       "1994-01-01 09:46:35 000085  0.268336  0.046985\n",
       "1994-01-01 09:46:36 000862  0.086593  0.794695\n",
       "1994-01-01 09:46:37 000097  0.726068  0.739594\n",
       "1994-01-01 09:46:38 000179  0.166853  0.956411\n",
       "1994-01-01 09:46:39 000117  0.251955  0.883251"
      ]
     },
     "execution_count": 7,
     "metadata": {},
     "output_type": "execute_result"
    }
   ],
   "source": [
    "df.tail()"
   ]
  },
  {
   "cell_type": "markdown",
   "metadata": {},
   "source": [
    "# 写入"
   ]
  },
  {
   "cell_type": "code",
   "execution_count": 8,
   "metadata": {
    "ExecuteTime": {
     "end_time": "2020-03-30T08:14:28.109381Z",
     "start_time": "2020-03-30T08:13:38.705981Z"
    }
   },
   "outputs": [
    {
     "name": "stderr",
     "output_type": "stream",
     "text": [
      "C:\\Users\\liude\\anaconda3\\envs\\zipline\\lib\\site-packages\\tables\\path.py:155: NaturalNameWarning: object name is not a valid Python identifier: '股票代码'; it does not match the pattern ``^[a-zA-Z_][a-zA-Z0-9_]*$``; you will not be able to use natural naming to access this object; using ``getattr()`` will still work, though\n",
      "  check_attribute_name(name)\n",
      "C:\\Users\\liude\\anaconda3\\envs\\zipline\\lib\\site-packages\\tables\\path.py:155: NaturalNameWarning: object name is not a valid Python identifier: '日期'; it does not match the pattern ``^[a-zA-Z_][a-zA-Z0-9_]*$``; you will not be able to use natural naming to access this object; using ``getattr()`` will still work, though\n",
      "  check_attribute_name(name)\n",
      "C:\\Users\\liude\\anaconda3\\envs\\zipline\\lib\\site-packages\\tables\\path.py:155: NaturalNameWarning: object name is not a valid Python identifier: '涨跌幅'; it does not match the pattern ``^[a-zA-Z_][a-zA-Z0-9_]*$``; you will not be able to use natural naming to access this object; using ``getattr()`` will still work, though\n",
      "  check_attribute_name(name)\n",
      "C:\\Users\\liude\\anaconda3\\envs\\zipline\\lib\\site-packages\\tables\\path.py:155: NaturalNameWarning: object name is not a valid Python identifier: '股价'; it does not match the pattern ``^[a-zA-Z_][a-zA-Z0-9_]*$``; you will not be able to use natural naming to access this object; using ``getattr()`` will still work, though\n",
      "  check_attribute_name(name)\n",
      "C:\\Users\\liude\\anaconda3\\envs\\zipline\\lib\\site-packages\\tables\\leaf.py:353: RuntimeWarning: overflow encountered in long_scalars\n",
      "  expected_mb = (expectedrows * rowsize) // MB\n",
      "C:\\Users\\liude\\anaconda3\\envs\\zipline\\lib\\site-packages\\tables\\attributeset.py:464: NaturalNameWarning: object name is not a valid Python identifier: '股票代码_kind'; it does not match the pattern ``^[a-zA-Z_][a-zA-Z0-9_]*$``; you will not be able to use natural naming to access this object; using ``getattr()`` will still work, though\n",
      "  check_attribute_name(name)\n",
      "C:\\Users\\liude\\anaconda3\\envs\\zipline\\lib\\site-packages\\tables\\attributeset.py:464: NaturalNameWarning: object name is not a valid Python identifier: '股票代码_meta'; it does not match the pattern ``^[a-zA-Z_][a-zA-Z0-9_]*$``; you will not be able to use natural naming to access this object; using ``getattr()`` will still work, though\n",
      "  check_attribute_name(name)\n",
      "C:\\Users\\liude\\anaconda3\\envs\\zipline\\lib\\site-packages\\tables\\attributeset.py:464: NaturalNameWarning: object name is not a valid Python identifier: '股票代码_dtype'; it does not match the pattern ``^[a-zA-Z_][a-zA-Z0-9_]*$``; you will not be able to use natural naming to access this object; using ``getattr()`` will still work, though\n",
      "  check_attribute_name(name)\n",
      "C:\\Users\\liude\\anaconda3\\envs\\zipline\\lib\\site-packages\\tables\\attributeset.py:464: NaturalNameWarning: object name is not a valid Python identifier: '日期_kind'; it does not match the pattern ``^[a-zA-Z_][a-zA-Z0-9_]*$``; you will not be able to use natural naming to access this object; using ``getattr()`` will still work, though\n",
      "  check_attribute_name(name)\n",
      "C:\\Users\\liude\\anaconda3\\envs\\zipline\\lib\\site-packages\\tables\\attributeset.py:464: NaturalNameWarning: object name is not a valid Python identifier: '日期_meta'; it does not match the pattern ``^[a-zA-Z_][a-zA-Z0-9_]*$``; you will not be able to use natural naming to access this object; using ``getattr()`` will still work, though\n",
      "  check_attribute_name(name)\n",
      "C:\\Users\\liude\\anaconda3\\envs\\zipline\\lib\\site-packages\\tables\\attributeset.py:464: NaturalNameWarning: object name is not a valid Python identifier: '日期_dtype'; it does not match the pattern ``^[a-zA-Z_][a-zA-Z0-9_]*$``; you will not be able to use natural naming to access this object; using ``getattr()`` will still work, though\n",
      "  check_attribute_name(name)\n",
      "C:\\Users\\liude\\anaconda3\\envs\\zipline\\lib\\site-packages\\tables\\attributeset.py:464: NaturalNameWarning: object name is not a valid Python identifier: '涨跌幅_kind'; it does not match the pattern ``^[a-zA-Z_][a-zA-Z0-9_]*$``; you will not be able to use natural naming to access this object; using ``getattr()`` will still work, though\n",
      "  check_attribute_name(name)\n",
      "C:\\Users\\liude\\anaconda3\\envs\\zipline\\lib\\site-packages\\tables\\attributeset.py:464: NaturalNameWarning: object name is not a valid Python identifier: '涨跌幅_meta'; it does not match the pattern ``^[a-zA-Z_][a-zA-Z0-9_]*$``; you will not be able to use natural naming to access this object; using ``getattr()`` will still work, though\n",
      "  check_attribute_name(name)\n",
      "C:\\Users\\liude\\anaconda3\\envs\\zipline\\lib\\site-packages\\tables\\attributeset.py:464: NaturalNameWarning: object name is not a valid Python identifier: '涨跌幅_dtype'; it does not match the pattern ``^[a-zA-Z_][a-zA-Z0-9_]*$``; you will not be able to use natural naming to access this object; using ``getattr()`` will still work, though\n",
      "  check_attribute_name(name)\n",
      "C:\\Users\\liude\\anaconda3\\envs\\zipline\\lib\\site-packages\\tables\\attributeset.py:464: NaturalNameWarning: object name is not a valid Python identifier: '股价_kind'; it does not match the pattern ``^[a-zA-Z_][a-zA-Z0-9_]*$``; you will not be able to use natural naming to access this object; using ``getattr()`` will still work, though\n",
      "  check_attribute_name(name)\n",
      "C:\\Users\\liude\\anaconda3\\envs\\zipline\\lib\\site-packages\\tables\\attributeset.py:464: NaturalNameWarning: object name is not a valid Python identifier: '股价_meta'; it does not match the pattern ``^[a-zA-Z_][a-zA-Z0-9_]*$``; you will not be able to use natural naming to access this object; using ``getattr()`` will still work, though\n",
      "  check_attribute_name(name)\n",
      "C:\\Users\\liude\\anaconda3\\envs\\zipline\\lib\\site-packages\\tables\\attributeset.py:464: NaturalNameWarning: object name is not a valid Python identifier: '股价_dtype'; it does not match the pattern ``^[a-zA-Z_][a-zA-Z0-9_]*$``; you will not be able to use natural naming to access this object; using ``getattr()`` will still work, though\n",
      "  check_attribute_name(name)\n"
     ]
    }
   ],
   "source": [
    "# 带索引写入 7min\n",
    "# 不带索引 50s\n",
    "store = pd.HDFStore('large_cn.h5')\n",
    "store.append(\"df\", df, index=False, **HDF_KWARGS)"
   ]
  },
  {
   "cell_type": "markdown",
   "metadata": {},
   "source": [
    "## 创建索引"
   ]
  },
  {
   "cell_type": "code",
   "execution_count": 9,
   "metadata": {
    "ExecuteTime": {
     "end_time": "2020-03-30T08:19:46.340288Z",
     "start_time": "2020-03-30T08:14:28.110378Z"
    }
   },
   "outputs": [],
   "source": [
    "# 创建索引 5min35s\n",
    "store.create_table_index('df', optlevel=9, kind='full')"
   ]
  },
  {
   "cell_type": "markdown",
   "metadata": {},
   "source": [
    "# 查询"
   ]
  },
  {
   "cell_type": "markdown",
   "metadata": {},
   "source": [
    "## 主坐标"
   ]
  },
  {
   "cell_type": "code",
   "execution_count": 10,
   "metadata": {
    "ExecuteTime": {
     "end_time": "2020-03-30T08:19:46.360208Z",
     "start_time": "2020-03-30T08:19:46.341282Z"
    }
   },
   "outputs": [
    {
     "data": {
      "text/html": [
       "<div>\n",
       "<style scoped>\n",
       "    .dataframe tbody tr th:only-of-type {\n",
       "        vertical-align: middle;\n",
       "    }\n",
       "\n",
       "    .dataframe tbody tr th {\n",
       "        vertical-align: top;\n",
       "    }\n",
       "\n",
       "    .dataframe thead th {\n",
       "        text-align: right;\n",
       "    }\n",
       "</style>\n",
       "<table border=\"1\" class=\"dataframe\">\n",
       "  <thead>\n",
       "    <tr style=\"text-align: right;\">\n",
       "      <th></th>\n",
       "      <th></th>\n",
       "      <th>涨跌幅</th>\n",
       "      <th>股价</th>\n",
       "    </tr>\n",
       "    <tr>\n",
       "      <th>日期</th>\n",
       "      <th>股票代码</th>\n",
       "      <th></th>\n",
       "      <th></th>\n",
       "    </tr>\n",
       "  </thead>\n",
       "  <tbody>\n",
       "    <tr>\n",
       "      <th>1994-01-01 09:46:35</th>\n",
       "      <th>000085</th>\n",
       "      <td>0.268336</td>\n",
       "      <td>0.046985</td>\n",
       "    </tr>\n",
       "    <tr>\n",
       "      <th>1994-01-01 09:46:36</th>\n",
       "      <th>000862</th>\n",
       "      <td>0.086593</td>\n",
       "      <td>0.794695</td>\n",
       "    </tr>\n",
       "    <tr>\n",
       "      <th>1994-01-01 09:46:37</th>\n",
       "      <th>000097</th>\n",
       "      <td>0.726068</td>\n",
       "      <td>0.739594</td>\n",
       "    </tr>\n",
       "    <tr>\n",
       "      <th>1994-01-01 09:46:38</th>\n",
       "      <th>000179</th>\n",
       "      <td>0.166853</td>\n",
       "      <td>0.956411</td>\n",
       "    </tr>\n",
       "    <tr>\n",
       "      <th>1994-01-01 09:46:39</th>\n",
       "      <th>000117</th>\n",
       "      <td>0.251955</td>\n",
       "      <td>0.883251</td>\n",
       "    </tr>\n",
       "  </tbody>\n",
       "</table>\n",
       "</div>"
      ],
      "text/plain": [
       "                                 涨跌幅        股价\n",
       "日期                  股票代码                      \n",
       "1994-01-01 09:46:35 000085  0.268336  0.046985\n",
       "1994-01-01 09:46:36 000862  0.086593  0.794695\n",
       "1994-01-01 09:46:37 000097  0.726068  0.739594\n",
       "1994-01-01 09:46:38 000179  0.166853  0.956411\n",
       "1994-01-01 09:46:39 000117  0.251955  0.883251"
      ]
     },
     "execution_count": 10,
     "metadata": {},
     "output_type": "execute_result"
    }
   ],
   "source": [
    "# 15ms\n",
    "store.select(\"df\", \"日期>=pd.Timestamp('1994-01-01 09:46:35') and 日期<=pd.Timestamp('1994-01-01 12:46:35')\")"
   ]
  },
  {
   "cell_type": "markdown",
   "metadata": {},
   "source": [
    "## 次坐标"
   ]
  },
  {
   "cell_type": "code",
   "execution_count": 11,
   "metadata": {
    "ExecuteTime": {
     "end_time": "2020-03-30T08:19:53.839082Z",
     "start_time": "2020-03-30T08:19:46.361229Z"
    }
   },
   "outputs": [
    {
     "data": {
      "text/html": [
       "<div>\n",
       "<style scoped>\n",
       "    .dataframe tbody tr th:only-of-type {\n",
       "        vertical-align: middle;\n",
       "    }\n",
       "\n",
       "    .dataframe tbody tr th {\n",
       "        vertical-align: top;\n",
       "    }\n",
       "\n",
       "    .dataframe thead th {\n",
       "        text-align: right;\n",
       "    }\n",
       "</style>\n",
       "<table border=\"1\" class=\"dataframe\">\n",
       "  <thead>\n",
       "    <tr style=\"text-align: right;\">\n",
       "      <th></th>\n",
       "      <th></th>\n",
       "      <th>涨跌幅</th>\n",
       "      <th>股价</th>\n",
       "    </tr>\n",
       "    <tr>\n",
       "      <th>日期</th>\n",
       "      <th>股票代码</th>\n",
       "      <th></th>\n",
       "      <th></th>\n",
       "    </tr>\n",
       "  </thead>\n",
       "  <tbody>\n",
       "    <tr>\n",
       "      <th>1990-11-01 00:15:08</th>\n",
       "      <th>000099</th>\n",
       "      <td>0.213317</td>\n",
       "      <td>0.843223</td>\n",
       "    </tr>\n",
       "    <tr>\n",
       "      <th>1990-11-01 00:26:38</th>\n",
       "      <th>000099</th>\n",
       "      <td>0.194780</td>\n",
       "      <td>0.474543</td>\n",
       "    </tr>\n",
       "    <tr>\n",
       "      <th>1990-11-01 00:32:57</th>\n",
       "      <th>000001</th>\n",
       "      <td>0.728373</td>\n",
       "      <td>0.500865</td>\n",
       "    </tr>\n",
       "    <tr>\n",
       "      <th>1990-11-01 00:33:20</th>\n",
       "      <th>000001</th>\n",
       "      <td>0.656082</td>\n",
       "      <td>0.012898</td>\n",
       "    </tr>\n",
       "    <tr>\n",
       "      <th>1990-11-01 00:36:02</th>\n",
       "      <th>000001</th>\n",
       "      <td>0.651777</td>\n",
       "      <td>0.446269</td>\n",
       "    </tr>\n",
       "    <tr>\n",
       "      <th>...</th>\n",
       "      <th>...</th>\n",
       "      <td>...</td>\n",
       "      <td>...</td>\n",
       "    </tr>\n",
       "    <tr>\n",
       "      <th>1994-01-01 09:02:08</th>\n",
       "      <th>000099</th>\n",
       "      <td>0.603316</td>\n",
       "      <td>0.533297</td>\n",
       "    </tr>\n",
       "    <tr>\n",
       "      <th>1994-01-01 09:06:20</th>\n",
       "      <th>000001</th>\n",
       "      <td>0.658950</td>\n",
       "      <td>0.163983</td>\n",
       "    </tr>\n",
       "    <tr>\n",
       "      <th>1994-01-01 09:21:13</th>\n",
       "      <th>000099</th>\n",
       "      <td>0.661527</td>\n",
       "      <td>0.024193</td>\n",
       "    </tr>\n",
       "    <tr>\n",
       "      <th>1994-01-01 09:28:16</th>\n",
       "      <th>000099</th>\n",
       "      <td>0.423159</td>\n",
       "      <td>0.163804</td>\n",
       "    </tr>\n",
       "    <tr>\n",
       "      <th>1994-01-01 09:38:12</th>\n",
       "      <th>000099</th>\n",
       "      <td>0.304642</td>\n",
       "      <td>0.485081</td>\n",
       "    </tr>\n",
       "  </tbody>\n",
       "</table>\n",
       "<p>200058 rows × 2 columns</p>\n",
       "</div>"
      ],
      "text/plain": [
       "                                 涨跌幅        股价\n",
       "日期                  股票代码                      \n",
       "1990-11-01 00:15:08 000099  0.213317  0.843223\n",
       "1990-11-01 00:26:38 000099  0.194780  0.474543\n",
       "1990-11-01 00:32:57 000001  0.728373  0.500865\n",
       "1990-11-01 00:33:20 000001  0.656082  0.012898\n",
       "1990-11-01 00:36:02 000001  0.651777  0.446269\n",
       "...                              ...       ...\n",
       "1994-01-01 09:02:08 000099  0.603316  0.533297\n",
       "1994-01-01 09:06:20 000001  0.658950  0.163983\n",
       "1994-01-01 09:21:13 000099  0.661527  0.024193\n",
       "1994-01-01 09:28:16 000099  0.423159  0.163804\n",
       "1994-01-01 09:38:12 000099  0.304642  0.485081\n",
       "\n",
       "[200058 rows x 2 columns]"
      ]
     },
     "execution_count": 11,
     "metadata": {},
     "output_type": "execute_result"
    }
   ],
   "source": [
    "# 7.5s 20w rows\n",
    "store.select(\"df\",\"股票代码 = ['000001','000099']\")"
   ]
  },
  {
   "cell_type": "code",
   "execution_count": 14,
   "metadata": {
    "ExecuteTime": {
     "end_time": "2020-03-30T08:28:36.513800Z",
     "start_time": "2020-03-30T08:28:24.716778Z"
    }
   },
   "outputs": [
    {
     "data": {
      "text/html": [
       "<div>\n",
       "<style scoped>\n",
       "    .dataframe tbody tr th:only-of-type {\n",
       "        vertical-align: middle;\n",
       "    }\n",
       "\n",
       "    .dataframe tbody tr th {\n",
       "        vertical-align: top;\n",
       "    }\n",
       "\n",
       "    .dataframe thead th {\n",
       "        text-align: right;\n",
       "    }\n",
       "</style>\n",
       "<table border=\"1\" class=\"dataframe\">\n",
       "  <thead>\n",
       "    <tr style=\"text-align: right;\">\n",
       "      <th></th>\n",
       "      <th></th>\n",
       "      <th>涨跌幅</th>\n",
       "      <th>股价</th>\n",
       "    </tr>\n",
       "    <tr>\n",
       "      <th>日期</th>\n",
       "      <th>股票代码</th>\n",
       "      <th></th>\n",
       "      <th></th>\n",
       "    </tr>\n",
       "  </thead>\n",
       "  <tbody>\n",
       "    <tr>\n",
       "      <th>1990-11-01 00:15:08</th>\n",
       "      <th>000099</th>\n",
       "      <td>0.213317</td>\n",
       "      <td>0.843223</td>\n",
       "    </tr>\n",
       "    <tr>\n",
       "      <th>1990-11-01 00:26:38</th>\n",
       "      <th>000099</th>\n",
       "      <td>0.194780</td>\n",
       "      <td>0.474543</td>\n",
       "    </tr>\n",
       "    <tr>\n",
       "      <th>1990-11-01 00:53:35</th>\n",
       "      <th>000099</th>\n",
       "      <td>0.212584</td>\n",
       "      <td>0.091240</td>\n",
       "    </tr>\n",
       "    <tr>\n",
       "      <th>1990-11-01 01:39:26</th>\n",
       "      <th>000099</th>\n",
       "      <td>0.341710</td>\n",
       "      <td>0.543048</td>\n",
       "    </tr>\n",
       "    <tr>\n",
       "      <th>1990-11-01 02:17:49</th>\n",
       "      <th>000099</th>\n",
       "      <td>0.071071</td>\n",
       "      <td>0.415948</td>\n",
       "    </tr>\n",
       "    <tr>\n",
       "      <th>...</th>\n",
       "      <th>...</th>\n",
       "      <td>...</td>\n",
       "      <td>...</td>\n",
       "    </tr>\n",
       "    <tr>\n",
       "      <th>1994-01-01 08:38:02</th>\n",
       "      <th>000099</th>\n",
       "      <td>0.043753</td>\n",
       "      <td>0.922558</td>\n",
       "    </tr>\n",
       "    <tr>\n",
       "      <th>1994-01-01 09:02:08</th>\n",
       "      <th>000099</th>\n",
       "      <td>0.603316</td>\n",
       "      <td>0.533297</td>\n",
       "    </tr>\n",
       "    <tr>\n",
       "      <th>1994-01-01 09:21:13</th>\n",
       "      <th>000099</th>\n",
       "      <td>0.661527</td>\n",
       "      <td>0.024193</td>\n",
       "    </tr>\n",
       "    <tr>\n",
       "      <th>1994-01-01 09:28:16</th>\n",
       "      <th>000099</th>\n",
       "      <td>0.423159</td>\n",
       "      <td>0.163804</td>\n",
       "    </tr>\n",
       "    <tr>\n",
       "      <th>1994-01-01 09:38:12</th>\n",
       "      <th>000099</th>\n",
       "      <td>0.304642</td>\n",
       "      <td>0.485081</td>\n",
       "    </tr>\n",
       "  </tbody>\n",
       "</table>\n",
       "<p>99500 rows × 2 columns</p>\n",
       "</div>"
      ],
      "text/plain": [
       "                                 涨跌幅        股价\n",
       "日期                  股票代码                      \n",
       "1990-11-01 00:15:08 000099  0.213317  0.843223\n",
       "1990-11-01 00:26:38 000099  0.194780  0.474543\n",
       "1990-11-01 00:53:35 000099  0.212584  0.091240\n",
       "1990-11-01 01:39:26 000099  0.341710  0.543048\n",
       "1990-11-01 02:17:49 000099  0.071071  0.415948\n",
       "...                              ...       ...\n",
       "1994-01-01 08:38:02 000099  0.043753  0.922558\n",
       "1994-01-01 09:02:08 000099  0.603316  0.533297\n",
       "1994-01-01 09:21:13 000099  0.661527  0.024193\n",
       "1994-01-01 09:28:16 000099  0.423159  0.163804\n",
       "1994-01-01 09:38:12 000099  0.304642  0.485081\n",
       "\n",
       "[99500 rows x 2 columns]"
      ]
     },
     "execution_count": 14,
     "metadata": {},
     "output_type": "execute_result"
    }
   ],
   "source": [
    "store.select(\"df\",\"股票代码 = '000099'\")"
   ]
  },
  {
   "cell_type": "code",
   "execution_count": 12,
   "metadata": {
    "ExecuteTime": {
     "end_time": "2020-03-30T08:20:37.355155Z",
     "start_time": "2020-03-30T08:19:53.840080Z"
    }
   },
   "outputs": [
    {
     "data": {
      "text/html": [
       "<div>\n",
       "<style scoped>\n",
       "    .dataframe tbody tr th:only-of-type {\n",
       "        vertical-align: middle;\n",
       "    }\n",
       "\n",
       "    .dataframe tbody tr th {\n",
       "        vertical-align: top;\n",
       "    }\n",
       "\n",
       "    .dataframe thead th {\n",
       "        text-align: right;\n",
       "    }\n",
       "</style>\n",
       "<table border=\"1\" class=\"dataframe\">\n",
       "  <thead>\n",
       "    <tr style=\"text-align: right;\">\n",
       "      <th></th>\n",
       "      <th></th>\n",
       "      <th>涨跌幅</th>\n",
       "      <th>股价</th>\n",
       "    </tr>\n",
       "    <tr>\n",
       "      <th>日期</th>\n",
       "      <th>股票代码</th>\n",
       "      <th></th>\n",
       "      <th></th>\n",
       "    </tr>\n",
       "  </thead>\n",
       "  <tbody>\n",
       "    <tr>\n",
       "      <th>1990-11-01 00:00:00</th>\n",
       "      <th>000749</th>\n",
       "      <td>0.265795</td>\n",
       "      <td>0.871326</td>\n",
       "    </tr>\n",
       "    <tr>\n",
       "      <th>1990-11-01 00:00:01</th>\n",
       "      <th>000555</th>\n",
       "      <td>0.860194</td>\n",
       "      <td>0.991408</td>\n",
       "    </tr>\n",
       "    <tr>\n",
       "      <th>1990-11-01 00:00:02</th>\n",
       "      <th>000314</th>\n",
       "      <td>0.875841</td>\n",
       "      <td>0.864301</td>\n",
       "    </tr>\n",
       "    <tr>\n",
       "      <th>1990-11-01 00:00:03</th>\n",
       "      <th>000063</th>\n",
       "      <td>0.760080</td>\n",
       "      <td>0.928494</td>\n",
       "    </tr>\n",
       "    <tr>\n",
       "      <th>1990-11-01 00:00:06</th>\n",
       "      <th>000561</th>\n",
       "      <td>0.571876</td>\n",
       "      <td>0.904741</td>\n",
       "    </tr>\n",
       "    <tr>\n",
       "      <th>...</th>\n",
       "      <th>...</th>\n",
       "      <td>...</td>\n",
       "      <td>...</td>\n",
       "    </tr>\n",
       "    <tr>\n",
       "      <th>1994-01-01 09:46:21</th>\n",
       "      <th>000346</th>\n",
       "      <td>0.396784</td>\n",
       "      <td>0.960244</td>\n",
       "    </tr>\n",
       "    <tr>\n",
       "      <th>1994-01-01 09:46:23</th>\n",
       "      <th>000549</th>\n",
       "      <td>0.551476</td>\n",
       "      <td>0.988917</td>\n",
       "    </tr>\n",
       "    <tr>\n",
       "      <th>1994-01-01 09:46:29</th>\n",
       "      <th>000591</th>\n",
       "      <td>0.279189</td>\n",
       "      <td>0.930674</td>\n",
       "    </tr>\n",
       "    <tr>\n",
       "      <th>1994-01-01 09:46:38</th>\n",
       "      <th>000179</th>\n",
       "      <td>0.166853</td>\n",
       "      <td>0.956411</td>\n",
       "    </tr>\n",
       "    <tr>\n",
       "      <th>1994-01-01 09:46:39</th>\n",
       "      <th>000117</th>\n",
       "      <td>0.251955</td>\n",
       "      <td>0.883251</td>\n",
       "    </tr>\n",
       "  </tbody>\n",
       "</table>\n",
       "<p>19997486 rows × 2 columns</p>\n",
       "</div>"
      ],
      "text/plain": [
       "                                 涨跌幅        股价\n",
       "日期                  股票代码                      \n",
       "1990-11-01 00:00:00 000749  0.265795  0.871326\n",
       "1990-11-01 00:00:01 000555  0.860194  0.991408\n",
       "1990-11-01 00:00:02 000314  0.875841  0.864301\n",
       "1990-11-01 00:00:03 000063  0.760080  0.928494\n",
       "1990-11-01 00:00:06 000561  0.571876  0.904741\n",
       "...                              ...       ...\n",
       "1994-01-01 09:46:21 000346  0.396784  0.960244\n",
       "1994-01-01 09:46:23 000549  0.551476  0.988917\n",
       "1994-01-01 09:46:29 000591  0.279189  0.930674\n",
       "1994-01-01 09:46:38 000179  0.166853  0.956411\n",
       "1994-01-01 09:46:39 000117  0.251955  0.883251\n",
       "\n",
       "[19997486 rows x 2 columns]"
      ]
     },
     "execution_count": 12,
     "metadata": {},
     "output_type": "execute_result"
    }
   ],
   "source": [
    "# 44s 2000w rows\n",
    "store.select(\"df\",\"股价 > 0.8\")"
   ]
  },
  {
   "cell_type": "markdown",
   "metadata": {},
   "source": [
    "## 联合"
   ]
  },
  {
   "cell_type": "code",
   "execution_count": 13,
   "metadata": {
    "ExecuteTime": {
     "end_time": "2020-03-30T08:20:52.985458Z",
     "start_time": "2020-03-30T08:20:37.356171Z"
    }
   },
   "outputs": [
    {
     "data": {
      "text/html": [
       "<div>\n",
       "<style scoped>\n",
       "    .dataframe tbody tr th:only-of-type {\n",
       "        vertical-align: middle;\n",
       "    }\n",
       "\n",
       "    .dataframe tbody tr th {\n",
       "        vertical-align: top;\n",
       "    }\n",
       "\n",
       "    .dataframe thead th {\n",
       "        text-align: right;\n",
       "    }\n",
       "</style>\n",
       "<table border=\"1\" class=\"dataframe\">\n",
       "  <thead>\n",
       "    <tr style=\"text-align: right;\">\n",
       "      <th></th>\n",
       "      <th></th>\n",
       "      <th>涨跌幅</th>\n",
       "      <th>股价</th>\n",
       "    </tr>\n",
       "    <tr>\n",
       "      <th>日期</th>\n",
       "      <th>股票代码</th>\n",
       "      <th></th>\n",
       "      <th></th>\n",
       "    </tr>\n",
       "  </thead>\n",
       "  <tbody>\n",
       "    <tr>\n",
       "      <th>1993-01-01 09:46:40</th>\n",
       "      <th>000335</th>\n",
       "      <td>0.605382</td>\n",
       "      <td>0.899732</td>\n",
       "    </tr>\n",
       "    <tr>\n",
       "      <th>1993-01-01 09:46:58</th>\n",
       "      <th>000269</th>\n",
       "      <td>0.205313</td>\n",
       "      <td>0.942192</td>\n",
       "    </tr>\n",
       "    <tr>\n",
       "      <th>1993-01-01 09:47:00</th>\n",
       "      <th>000781</th>\n",
       "      <td>0.663895</td>\n",
       "      <td>0.816324</td>\n",
       "    </tr>\n",
       "    <tr>\n",
       "      <th>1993-01-01 09:47:03</th>\n",
       "      <th>000168</th>\n",
       "      <td>0.786497</td>\n",
       "      <td>0.862379</td>\n",
       "    </tr>\n",
       "    <tr>\n",
       "      <th>1993-01-01 09:47:07</th>\n",
       "      <th>000967</th>\n",
       "      <td>0.797368</td>\n",
       "      <td>0.965377</td>\n",
       "    </tr>\n",
       "    <tr>\n",
       "      <th>...</th>\n",
       "      <th>...</th>\n",
       "      <td>...</td>\n",
       "      <td>...</td>\n",
       "    </tr>\n",
       "    <tr>\n",
       "      <th>1994-01-01 09:46:21</th>\n",
       "      <th>000346</th>\n",
       "      <td>0.396784</td>\n",
       "      <td>0.960244</td>\n",
       "    </tr>\n",
       "    <tr>\n",
       "      <th>1994-01-01 09:46:23</th>\n",
       "      <th>000549</th>\n",
       "      <td>0.551476</td>\n",
       "      <td>0.988917</td>\n",
       "    </tr>\n",
       "    <tr>\n",
       "      <th>1994-01-01 09:46:29</th>\n",
       "      <th>000591</th>\n",
       "      <td>0.279189</td>\n",
       "      <td>0.930674</td>\n",
       "    </tr>\n",
       "    <tr>\n",
       "      <th>1994-01-01 09:46:38</th>\n",
       "      <th>000179</th>\n",
       "      <td>0.166853</td>\n",
       "      <td>0.956411</td>\n",
       "    </tr>\n",
       "    <tr>\n",
       "      <th>1994-01-01 09:46:39</th>\n",
       "      <th>000117</th>\n",
       "      <td>0.251955</td>\n",
       "      <td>0.883251</td>\n",
       "    </tr>\n",
       "  </tbody>\n",
       "</table>\n",
       "<p>6306608 rows × 2 columns</p>\n",
       "</div>"
      ],
      "text/plain": [
       "                                 涨跌幅        股价\n",
       "日期                  股票代码                      \n",
       "1993-01-01 09:46:40 000335  0.605382  0.899732\n",
       "1993-01-01 09:46:58 000269  0.205313  0.942192\n",
       "1993-01-01 09:47:00 000781  0.663895  0.816324\n",
       "1993-01-01 09:47:03 000168  0.786497  0.862379\n",
       "1993-01-01 09:47:07 000967  0.797368  0.965377\n",
       "...                              ...       ...\n",
       "1994-01-01 09:46:21 000346  0.396784  0.960244\n",
       "1994-01-01 09:46:23 000549  0.551476  0.988917\n",
       "1994-01-01 09:46:29 000591  0.279189  0.930674\n",
       "1994-01-01 09:46:38 000179  0.166853  0.956411\n",
       "1994-01-01 09:46:39 000117  0.251955  0.883251\n",
       "\n",
       "[6306608 rows x 2 columns]"
      ]
     },
     "execution_count": 13,
     "metadata": {},
     "output_type": "execute_result"
    }
   ],
   "source": [
    "# 15s 630w rows\n",
    "store.select(\"df\", \"日期 >= pd.Timestamp('1993-01-01 09:46:35') and 股价 > 0.8\")"
   ]
  }
 ],
 "metadata": {
  "kernelspec": {
   "display_name": "zipline",
   "language": "python",
   "name": "zipline"
  },
  "language_info": {
   "codemirror_mode": {
    "name": "ipython",
    "version": 3
   },
   "file_extension": ".py",
   "mimetype": "text/x-python",
   "name": "python",
   "nbconvert_exporter": "python",
   "pygments_lexer": "ipython3",
   "version": "3.7.7"
  },
  "toc": {
   "base_numbering": 1,
   "nav_menu": {},
   "number_sections": true,
   "sideBar": true,
   "skip_h1_title": false,
   "title_cell": "Table of Contents",
   "title_sidebar": "Contents",
   "toc_cell": false,
   "toc_position": {},
   "toc_section_display": true,
   "toc_window_display": true
  }
 },
 "nbformat": 4,
 "nbformat_minor": 4
}
