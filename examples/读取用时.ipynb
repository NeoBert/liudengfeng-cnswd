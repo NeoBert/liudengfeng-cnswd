{
 "nbformat": 4,
 "nbformat_minor": 2,
 "metadata": {
  "language_info": {
   "name": "python",
   "codemirror_mode": {
    "name": "ipython",
    "version": 3
   },
   "version": "3.7.7-final"
  },
  "orig_nbformat": 2,
  "file_extension": ".py",
  "mimetype": "text/x-python",
  "name": "python",
  "npconvert_exporter": "python",
  "pygments_lexer": "ipython3",
  "version": 3,
  "kernelspec": {
   "name": "zipline",
   "display_name": "zipline"
  }
 },
 "cells": [
  {
   "cell_type": "code",
   "execution_count": 1,
   "metadata": {},
   "outputs": [],
   "source": [
    "from cnswd.store import WyCjmxStore\n",
    "import pandas as pd"
   ]
  },
  {
   "cell_type": "markdown",
   "metadata": {},
   "source": [
    "## 创建索引"
   ],
   "execution_count": null,
   "outputs": []
  },
  {
   "cell_type": "code",
   "execution_count": 2,
   "metadata": {},
   "outputs": [],
   "source": [
    "WyCjmxStore.create_table_index(None)"
   ]
  },
  {
   "cell_type": "markdown",
   "metadata": {},
   "source": [
    "## 查询某日已经下载数据的股票代码\n",
    "\n",
    "数据大约18G"
   ],
   "execution_count": null,
   "outputs": []
  },
  {
   "cell_type": "code",
   "execution_count": 3,
   "metadata": {},
   "outputs": [
    {
     "output_type": "stream",
     "name": "stdout",
     "text": "Wall time: 37.7 s\n"
    }
   ],
   "source": [
    "%%time\n",
    "date = '2020-03-26'\n",
    "df = WyCjmxStore.query(None, None, date, date)\n",
    "codes = df.index.get_level_values(1).unique()"
   ]
  },
  {
   "cell_type": "code",
   "execution_count": 4,
   "metadata": {},
   "outputs": [
    {
     "output_type": "execute_result",
     "data": {
      "text/plain": "Index(['000001', '000002', '000004', '000005', '000006', '000007', '000008',\n       '000009', '000010', '000011',\n       ...\n       '300817', '300812', '603948', '002299', '300819', '002796', '688090',\n       '688026', '688200', '688051'],\n      dtype='object', name='股票代码', length=3787)"
     },
     "metadata": {},
     "execution_count": 4
    }
   ],
   "source": [
    "codes"
   ]
  },
  {
   "cell_type": "code",
   "execution_count": 5,
   "metadata": {},
   "outputs": [
    {
     "output_type": "stream",
     "name": "stdout",
     "text": "Wall time: 415 ms\n"
    }
   ],
   "source": [
    "%%time\n",
    "date = '2020-03-26'\n",
    "df = WyCjmxStore.query(None, ['000333'], date, date)"
   ]
  },
  {
   "cell_type": "markdown",
   "metadata": {},
   "source": [
    "## 构造期间查询语句"
   ],
   "execution_count": null,
   "outputs": []
  },
  {
   "cell_type": "code",
   "execution_count": 5,
   "metadata": {},
   "outputs": [
    {
     "output_type": "execute_result",
     "data": {
      "text/plain": "\"成交时间 >= Timestamp('2020-03-26 00:00:00') & 成交时间 <= Timestamp('2020-03-26 23:59:59')\""
     },
     "metadata": {},
     "execution_count": 5
    }
   ],
   "source": [
    "# 查询同一天，自动修正结束日期\n",
    "WyCjmxStore.build_period_stmt('2020-03-26', '2020-03-26', '成交时间')"
   ]
  },
  {
   "cell_type": "code",
   "execution_count": 6,
   "metadata": {},
   "outputs": [],
   "source": [
    "df_w = WyCjmxStore.query(None,where=\"成交时间 >= Timestamp('2020-03-26 00:00:00') & 成交时间 <= Timestamp('2020-03-26 23:59:59')\")"
   ]
  },
  {
   "cell_type": "code",
   "execution_count": 7,
   "metadata": {},
   "outputs": [],
   "source": [
    "codes = df_w.index.get_level_values(1).unique()"
   ]
  },
  {
   "cell_type": "code",
   "execution_count": 8,
   "metadata": {},
   "outputs": [
    {
     "output_type": "execute_result",
     "data": {
      "text/plain": "Index(['000001', '000002', '000004', '000005', '000006', '000007', '000008',\n       '000009', '000010', '000011',\n       ...\n       '688357', '688358', '688363', '688366', '688368', '688369', '688388',\n       '688389', '688396', '688399'],\n      dtype='object', name='股票代码', length=3749)"
     },
     "metadata": {},
     "execution_count": 8
    }
   ],
   "source": [
    "codes"
   ]
  },
  {
   "cell_type": "code",
   "execution_count": null,
   "metadata": {},
   "outputs": [],
   "source": []
  }
 ]
}